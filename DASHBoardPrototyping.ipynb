{
 "cells": [
  {
   "cell_type": "code",
   "execution_count": 8,
   "metadata": {},
   "outputs": [
    {
     "data": {
      "text/html": [
       "<style>.container { width:100% !important; }</style>"
      ],
      "text/plain": [
       "<IPython.core.display.HTML object>"
      ]
     },
     "metadata": {},
     "output_type": "display_data"
    }
   ],
   "source": [
    "from IPython.core.display import display, HTML\n",
    "display(HTML(\"<style>.container { width:100% !important; }</style>\"))"
   ]
  },
  {
   "cell_type": "code",
   "execution_count": 1,
   "metadata": {},
   "outputs": [],
   "source": [
    "from jupyter_plotly_dash import JupyterDash"
   ]
  },
  {
   "cell_type": "code",
   "execution_count": 4,
   "metadata": {},
   "outputs": [],
   "source": [
    "from jupyter_plotly_dash import JupyterDash\n",
    "import dash\n",
    "import dash_core_components as dcc\n",
    "import dash_html_components as html\n",
    "from dash.dependencies import Input, Output\n",
    "import plotly.express as px\n",
    "import pandas as pd\n",
    "import json\n",
    "from glob import glob\n",
    "import dash_table\n",
    "from datetime import datetime,timedelta\n",
    "\n",
    "\n",
    "app = JupyterDash('inline')\n",
    "\n",
    "data_files = glob('json_data_files/*.json')\n",
    "\n",
    "with open(data_files[0], 'r') as myfile:\n",
    "    data = myfile.read()\n",
    "obj = json.loads(data)\n",
    "dict_of_cars = obj[0]\n",
    "\n",
    "car_df = pd.DataFrame.from_dict(dict_of_cars, orient='index').reset_index()\n",
    "car_df['age'] = datetime.now().year - car_df.year\n",
    "\n",
    "\n",
    "\n",
    "colors = {\n",
    "    'background': '#111111',\n",
    "    'text': '#7FDBFF'\n",
    "}\n",
    "\n",
    "\n",
    "\n",
    "app.layout = html.Div(style={'backgroundColor': colors['background']}, \n",
    "    children=[\n",
    "    html.H1(children='CAR ANALYTICA',style={'textAlign': 'center','color': colors['text']}),\n",
    "    \n",
    "    html.Div(children='Ozayrs car analysis platform', style={'textAlign': 'center','color': colors['text']} ),\n",
    "    html.P(\"\",style = {'height':'5%'}) ,\n",
    "    \n",
    "    html.Div(['Make:'] , style = {'width':'50%', 'color':colors['text'] , 'display':'inline-block' }  ),\n",
    "    html.Div(['Model:'] , style = {'width':'50%', 'color':colors['text'] , 'display':'inline-block' }  ),\n",
    "    \n",
    "    html.Div(dcc.Dropdown(id = 'make',options = [{'label':v ,'value':v} for v in list(car_df.make.unique()) ],value = list(car_df.make.unique())[0]) ,style = {'width':'50%','display':'inline-block'}),\n",
    "    html.Div(dcc.Dropdown(id='model') , style = {'width':'50%','display':'inline-block' } ),\n",
    "    \n",
    "    html.Div(['Engine Cap:'], style = {'width':'50%', 'color':colors['text']} ),\n",
    "    html.Div(dcc.Dropdown(id= 'engine') , style = {'width':'50%'} ),\n",
    "    \n",
    "    \n",
    "#     html.Div([html.H2('All cars info'),html.Table(id='my-table'),html.P(''),], style={'width': '55%', 'float': 'right', 'display': 'inline-block'})\n",
    "    \n",
    "    html.Div(dcc.Graph(id='fig1',style = { 'color':colors['background']  })),\n",
    "    \n",
    "    html.H2( children= ['All cars info'], style = {'textAlign':'center' ,'color':colors['text']}),\n",
    "#    html.Div(dash_table.DataTable(id='my-table',page_size = 10,sort_action = 'native', columns=[{\"name\": i, \"id\": i} for i in car_df.columns if i not in ['index','url'] ]) , style ={'width':'100%'})\n",
    "    html.Div(html.Table(id = 'html_table' ,style = {'color': colors['text'] , 'width':'80%'} ))\n",
    "    \n",
    "    ])\n",
    "\n",
    "\n",
    "\n",
    "# MODELS\n",
    "@app.callback(dash.dependencies.Output('model','options'),[dash.dependencies.Input('make','value')])\n",
    "def callback_populate_models(make):\n",
    "    return [{'label':v ,'value':v} for v in list(car_df.loc[car_df.make == make].model.unique())]\n",
    "\n",
    "@app.callback(dash.dependencies.Output('model','value'),[dash.dependencies.Input('make','value')])\n",
    "def callback_set_first_model(make):\n",
    "    return list(car_df.loc[car_df.make == make].model.unique())[0]\n",
    "# ================================================================================================\n",
    "# ENGINE\n",
    "@app.callback(dash.dependencies.Output('engine','options'),[dash.dependencies.Input('make', 'value') , dash.dependencies.Input('model','value')])\n",
    "def callback_populate_engines(make,model):\n",
    "    return  [{'label':v  ,'value':v} for v in list(car_df.loc[ (car_df.make==make) & (car_df.model == model)].engine.unique())]\n",
    "\n",
    "@app.callback(dash.dependencies.Output('engine','value'),[dash.dependencies.Input('make', 'value') , dash.dependencies.Input('model','value')])\n",
    "def callback_set_first_model(make,model):\n",
    "    return list(car_df.loc[ (car_df.make==make) & (car_df.model == model)].engine.unique())[0]\n",
    "# =================================================================================================\n",
    "\n",
    "\n",
    "@app.callback(dash.dependencies.Output('fig1', 'figure'),[dash.dependencies.Input('engine', 'value'),  dash.dependencies.Input('make', 'value') , dash.dependencies.Input('model','value')])\n",
    "def callback_populate_graph(engine,make,model):\n",
    "    return px.scatter(car_df.loc[ (car_df.make == make) & (car_df.model == model) & (car_df.engine == engine)] ,title = f'{make} {model} {engine}',template = 'plotly_dark' ,x = 'year' , y = 'price' , color = 'mileage').update(layout=dict(title=dict(x=0.5)))\n",
    "\n",
    "# @app.callback(dash.dependencies.Output('my-table', 'data'),[dash.dependencies.Input('engine', 'value'),  dash.dependencies.Input('make', 'value') , dash.dependencies.Input('model','value')])\n",
    "# def callback_populate_table(engine,make,model):\n",
    "#     return  car_df.loc[ (car_df.make == make) & (car_df.model == model) & (car_df.engine == engine)].to_dict('records')\n",
    "\n",
    "@app.callback(dash.dependencies.Output('html_table', 'children'),[dash.dependencies.Input('engine', 'value'),  dash.dependencies.Input('make', 'value') , dash.dependencies.Input('model','value')])\n",
    "def callback_populate_table(engine,make,model):\n",
    "    return  generate_table(car_df.loc[ (car_df.make == make) & (car_df.model == model) & (car_df.engine == engine)])\n",
    "\n",
    "#SANDOBOX\n",
    "def generate_table(dataframe, max_rows=10):\n",
    "    tbl_data =  [html.Tr([html.Th(col) for col in dataframe.columns if col not in ['index','url']])] + [html.Tr([html.Td(dataframe.iloc[i][col]) for col in dataframe.columns if col not in ['index','url']]) for i in range(min(len(dataframe), max_rows))]\n",
    "    return tbl_data\n"
   ]
  },
  {
   "cell_type": "code",
   "execution_count": 5,
   "metadata": {},
   "outputs": [
    {
     "data": {
      "text/html": [
       "<div>\n",
       "  <iframe src=\"/app/endpoints/18b9d10f3c924f49b3b0fecd9f4e19cc/\" width=800 height=600 frameborder=\"0\"></iframe>\n",
       "  <hr/><a href=\"/app/endpoints/18b9d10f3c924f49b3b0fecd9f4e19cc/\" target=\"_new\">Open in new window</a> for /app/endpoints/18b9d10f3c924f49b3b0fecd9f4e19cc/\n",
       "</div>"
      ],
      "text/plain": [
       "<jupyter_plotly_dash.dash_wrapper.JupyterDash at 0x7fa1dfd98050>"
      ]
     },
     "execution_count": 5,
     "metadata": {},
     "output_type": "execute_result"
    }
   ],
   "source": [
    "app"
   ]
  },
  {
   "cell_type": "code",
   "execution_count": null,
   "metadata": {},
   "outputs": [],
   "source": []
  }
 ],
 "metadata": {
  "kernelspec": {
   "display_name": "Python 3",
   "language": "python",
   "name": "python3"
  },
  "language_info": {
   "codemirror_mode": {
    "name": "ipython",
    "version": 3
   },
   "file_extension": ".py",
   "mimetype": "text/x-python",
   "name": "python",
   "nbconvert_exporter": "python",
   "pygments_lexer": "ipython3",
   "version": "3.7.4"
  }
 },
 "nbformat": 4,
 "nbformat_minor": 2
}
